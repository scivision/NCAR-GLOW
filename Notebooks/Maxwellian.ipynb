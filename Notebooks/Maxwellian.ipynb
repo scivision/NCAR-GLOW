{
 "cells": [
  {
   "cell_type": "markdown",
   "id": "ed6cd771",
   "metadata": {},
   "source": [
    "Maxwellian shaped particle precipitation differential number flux"
   ]
  },
  {
   "cell_type": "code",
   "execution_count": null,
   "id": "9601c827",
   "metadata": {},
   "outputs": [],
   "source": [
    "import ncarglow as glow\n",
    "import ncarglow.plots as plot\n",
    "from datetime import datetime\n",
    "\n",
    "\n",
    "time = datetime(2015, 12, 13, 10, 0, 0)\n",
    "glat = 65.1\n",
    "glon = -147.5\n",
    "# %% flux [erg cm-2 s-1 == mW m-2 s-1]\n",
    "Q = 1\n",
    "# %% characteristic energy [eV]\n",
    "Echar = 100e3\n",
    "# %% Number of energy bins\n",
    "Nbins = 250"
   ]
  },
  {
   "cell_type": "code",
   "execution_count": 1,
   "id": "a686dadb",
   "metadata": {},
   "outputs": [
    {
     "ename": "NameError",
     "evalue": "name 'glow' is not defined",
     "output_type": "error",
     "traceback": [
      "\u001b[1;31m---------------------------------------------------------------------------\u001b[0m",
      "\u001b[1;31mNameError\u001b[0m                                 Traceback (most recent call last)",
      "\u001b[1;32m<ipython-input-1-c8d90d49d42f>\u001b[0m in \u001b[0;36m<module>\u001b[1;34m\u001b[0m\n\u001b[1;32m----> 1\u001b[1;33m \u001b[0miono\u001b[0m \u001b[1;33m=\u001b[0m \u001b[0mglow\u001b[0m\u001b[1;33m.\u001b[0m\u001b[0mmaxwellian\u001b[0m\u001b[1;33m(\u001b[0m\u001b[0mtime\u001b[0m\u001b[1;33m,\u001b[0m \u001b[0mglat\u001b[0m\u001b[1;33m,\u001b[0m \u001b[0mglon\u001b[0m\u001b[1;33m,\u001b[0m \u001b[0mQ\u001b[0m\u001b[1;33m,\u001b[0m \u001b[0mEchar\u001b[0m\u001b[1;33m,\u001b[0m \u001b[0mNbins\u001b[0m\u001b[1;33m)\u001b[0m\u001b[1;33m\u001b[0m\u001b[1;33m\u001b[0m\u001b[0m\n\u001b[0m\u001b[0;32m      2\u001b[0m \u001b[1;31m# %% plots\u001b[0m\u001b[1;33m\u001b[0m\u001b[1;33m\u001b[0m\u001b[1;33m\u001b[0m\u001b[0m\n\u001b[0;32m      3\u001b[0m \u001b[0mplot\u001b[0m\u001b[1;33m.\u001b[0m\u001b[0mprecip\u001b[0m\u001b[1;33m(\u001b[0m\u001b[0miono\u001b[0m\u001b[1;33m[\u001b[0m\u001b[1;34m\"precip\"\u001b[0m\u001b[1;33m]\u001b[0m\u001b[1;33m)\u001b[0m\u001b[1;33m\u001b[0m\u001b[1;33m\u001b[0m\u001b[0m\n\u001b[0;32m      4\u001b[0m \u001b[0mplot\u001b[0m\u001b[1;33m.\u001b[0m\u001b[0mver\u001b[0m\u001b[1;33m(\u001b[0m\u001b[0miono\u001b[0m\u001b[1;33m)\u001b[0m\u001b[1;33m\u001b[0m\u001b[1;33m\u001b[0m\u001b[0m\n\u001b[0;32m      5\u001b[0m \u001b[0mplot\u001b[0m\u001b[1;33m.\u001b[0m\u001b[0mdensity\u001b[0m\u001b[1;33m(\u001b[0m\u001b[0miono\u001b[0m\u001b[1;33m)\u001b[0m\u001b[1;33m\u001b[0m\u001b[1;33m\u001b[0m\u001b[0m\n",
      "\u001b[1;31mNameError\u001b[0m: name 'glow' is not defined"
     ]
    }
   ],
   "source": [
    "iono = glow.maxwellian(time, glat, glon, Q, Echar, Nbins)\n",
    "# %% plots\n",
    "plot.precip(iono[\"precip\"])\n",
    "plot.ver(iono)\n",
    "plot.density(iono)\n",
    "plot.temperature(iono)"
   ]
  },
  {
   "cell_type": "code",
   "execution_count": null,
   "id": "978245af",
   "metadata": {},
   "outputs": [],
   "source": []
  }
 ],
 "metadata": {
  "kernelspec": {
   "display_name": "Python 3",
   "language": "python",
   "name": "python3"
  },
  "language_info": {
   "codemirror_mode": {
    "name": "ipython",
    "version": 3
   },
   "file_extension": ".py",
   "mimetype": "text/x-python",
   "name": "python",
   "nbconvert_exporter": "python",
   "pygments_lexer": "ipython3",
   "version": "3.9.5"
  }
 },
 "nbformat": 4,
 "nbformat_minor": 5
}
